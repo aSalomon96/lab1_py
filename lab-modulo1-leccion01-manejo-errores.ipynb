{
 "cells": [
  {
   "cell_type": "markdown",
   "metadata": {},
   "source": [
    "\n",
    "<div style=\"text-align: center;\">\n",
    "  <img src=\"https://github.com/Hack-io-Data/Imagenes/blob/main/01-LogosHackio/logo_celeste@4x.png?raw=true\" alt=\"esquema\" />\n",
    "</div>\n"
   ]
  },
  {
   "cell_type": "markdown",
   "metadata": {},
   "source": [
    "# Laboratorio de Python: manejo de errores."
   ]
  },
  {
   "cell_type": "markdown",
   "metadata": {},
   "source": [
    "## Ejercicio 1: División con manejo de excepciones\n",
    "\n",
    "Escribe un programa que pida al usuario dos números e intente dividirlos. Si el usuario ingresa un valor no numérico o intenta dividir por cero, maneja esas excepciones de manera adecuada. Asegúrate de mostrar un mensaje indicando si la división fue exitosa o no.\n"
   ]
  },
  {
   "cell_type": "code",
   "execution_count": 13,
   "metadata": {},
   "outputs": [
    {
     "name": "stdout",
     "output_type": "stream",
     "text": [
      "el resultado es 0.4\n",
      "La division fue un exito\n"
     ]
    }
   ],
   "source": [
    "def ingreso ():\n",
    "    try:\n",
    "        num1 = int (input(\"Ingrese el primer numero\"))\n",
    "        num2 = int (input(\"Ingrese el segundo numero\"))\n",
    "\n",
    "        resultado = num1 / num2\n",
    "        print (f\"el resultado es {resultado}\")\n",
    "    \n",
    "    except ValueError:\n",
    "        print(\"Ingrese un valor numerico por favor\")\n",
    "\n",
    "    except ZeroDivisionError:\n",
    "        print(\"Procura que el numero 2 o divisor, no sea 0\")\n",
    "    \n",
    "    else:\n",
    "        print(\"La division fue un exito\")\n",
    "\n",
    "ingreso()"
   ]
  },
  {
   "cell_type": "markdown",
   "metadata": {},
   "source": [
    "## Ejercicio 2: Acceso a archivos\n",
    "\n",
    "Escribe un programa que intente abrir un archivo llamado \"datos.txt\". Si el archivo no existe, captura la excepción y muestra un mensaje de error. Asegúrate de cerrar el archivo correctamente en la sección `finally`.\n"
   ]
  },
  {
   "cell_type": "code",
   "execution_count": 99,
   "metadata": {},
   "outputs": [
    {
     "name": "stdout",
     "output_type": "stream",
     "text": [
      "no se pudo importar el archivo\n",
      "no fue necesario cerrar el archivo.\n"
     ]
    }
   ],
   "source": [
    "def apertura():\n",
    "    try:\n",
    "        archivo = open(\"datos.txt\")\n",
    "        print(\"se abrio correctamente el archivo\")\n",
    "\n",
    "    except IOError:\n",
    "        print(\"no se pudo importar el archivo\")\n",
    "\n",
    "    finally:\n",
    "        try:\n",
    "            archivo.close()\n",
    "            print(\"el archivo se cerro\")\n",
    "        except NameError:\n",
    "            print(\"no fue necesario cerrar el archivo.\")\n",
    "\n",
    "apertura()"
   ]
  },
  {
   "cell_type": "markdown",
   "metadata": {},
   "source": [
    "## Ejercicio 3: Conversión de cadenas a enteros\n",
    "\n",
    "Escribe un programa que pida una lista de números separados por comas y convierta cada valor a un número entero. Maneja las excepciones para valores que no sean convertibles y asegúrate de informar si la conversión fue exitosa o no.\n"
   ]
  },
  {
   "cell_type": "code",
   "execution_count": 39,
   "metadata": {},
   "outputs": [
    {
     "name": "stdout",
     "output_type": "stream",
     "text": [
      "se convirtio con exito la lista\n",
      "la lista convertida es: [2, 3, 5]\n"
     ]
    }
   ],
   "source": [
    "def numeros():\n",
    "\n",
    "    ingreso = input(\"ingrese numeros separados por coma\")\n",
    "\n",
    "    try:\n",
    "        lista_int=[int(num) for num  in ingreso.split(\",\")]\n",
    "        print (\"se convirtio con exito la lista\")\n",
    "        print (f\"la lista convertida es: {lista_int}\")\n",
    "    except ValueError:\n",
    "        print(\"no ingresaste un numero\")\n",
    "\n",
    "numeros()\n"
   ]
  },
  {
   "cell_type": "markdown",
   "metadata": {},
   "source": [
    "#### Ejercicio 4: Cálculo del promedio con manejo de excepciones\n",
    "\n",
    "Escribe una función que reciba una lista de números y calcule su promedio. Si la lista está vacía, lanza una excepción personalizada y maneja el error adecuadamente.\n"
   ]
  },
  {
   "cell_type": "code",
   "execution_count": 98,
   "metadata": {},
   "outputs": [
    {
     "name": "stdout",
     "output_type": "stream",
     "text": [
      "la suma es = 5\n",
      "el promedio de la lista dado los valores ingresado es = 2.5\n"
     ]
    }
   ],
   "source": [
    "def prom():\n",
    "    lista_num = input(f\"ingrese numeros separados por comas para calcular promedio\")\n",
    "    lista_int_num =[int(num) for num  in lista_num.split(\",\")]\n",
    "    suma = sum(lista_int_num)\n",
    "    \n",
    "    try:\n",
    "        print(f\"la suma es = {suma}\")\n",
    "        print(f\"el promedio de la lista dado los valores ingresado es = {suma/len(lista_int_num)}\")\n",
    "\n",
    "    except:\n",
    "        if suma == 0:\n",
    "            print(\"valores incorrectos, ingrese unicamente numeros separdos por comas (',')\")\n",
    "\n",
    "\n",
    "prom()\n",
    "\n",
    "## no se me ocurrio como solucionar los de la lista vacia y la excepcion personalizada"
   ]
  },
  {
   "cell_type": "markdown",
   "metadata": {},
   "source": [
    "#### Ejercicio 5: Conversión segura de números\n",
    "\n",
    "Escribe un programa que convierta una cadena a número flotante e intente realizar una operación aritmética. Si la conversión falla, maneja la excepción y continúa con el flujo normal."
   ]
  },
  {
   "cell_type": "code",
   "execution_count": 125,
   "metadata": {},
   "outputs": [
    {
     "name": "stdout",
     "output_type": "stream",
     "text": [
      "se convirtio el numero: 1213 -> 1213.0\n",
      "El numero float 1213.0 elevado a las 2 es igual a 1471369.0\n",
      "se convirtio el numero: 12.34 -> 12.34\n",
      "El numero float 12.34 elevado a las 2 es igual a 152.2756\n",
      "el numero abc no es valido\n",
      "se convirtio el numero: 45.67 -> 45.67\n",
      "El numero float 45.67 elevado a las 2 es igual a 2085.7489\n",
      "el numero  no es valido\n"
     ]
    }
   ],
   "source": [
    "string = [\"1213\", \"12.34\", \"abc\", \"45.67\", \"\"]\n",
    "\n",
    "def str_float (string):\n",
    "    for numero in string:\n",
    "        try:\n",
    "            flotante = float(numero)\n",
    "            print(f\"se convirtio el numero: {numero} -> {flotante}\")\n",
    "\n",
    "            resultado = flotante ** 2\n",
    "            print (f\"El numero float {flotante} elevado a las 2 es igual a {resultado}\")\n",
    "        except ValueError:\n",
    "            print(f\"el numero {numero} no es valido\")\n",
    "\n",
    "str_float(string)\n"
   ]
  },
  {
   "cell_type": "markdown",
   "metadata": {},
   "source": [
    "#### Ejercicio 6: Acceso a claves en diccionarios\n",
    "\n",
    "Escribe un programa que intente acceder a una clave específica en un diccionario. Si la clave no existe, maneja la excepción `KeyError` y muestra un mensaje indicando el problema."
   ]
  },
  {
   "cell_type": "code",
   "execution_count": 6,
   "metadata": {},
   "outputs": [
    {
     "name": "stdout",
     "output_type": "stream",
     "text": [
      "El valor de la key nombre es --> Agustin\n"
     ]
    }
   ],
   "source": [
    "diccionario = {'nombre' : \"Agustin\",\n",
    "               'apellido' : \"Salomon\",\n",
    "               'edad': 28,\n",
    "               'ciudad': \"Valencia\"}\n",
    "\n",
    "def acceso_dict(diccionario):\n",
    "    key = input(f\"ingrese una key para acceder a su valor en el diccionario\")\n",
    "    try:\n",
    "        valor = diccionario[key]\n",
    "        print(f\"El valor de la key {key} es --> {valor}\")\n",
    "    except KeyError:\n",
    "        print(f\"la {key} que ingresaste no existe\")\n",
    "\n",
    "acceso_dict(diccionario)"
   ]
  },
  {
   "cell_type": "markdown",
   "metadata": {},
   "source": [
    "\n",
    "#### Ejercicio 7: Verificación de entradas de usuario\n",
    "\n",
    "Escribe un programa que pida al usuario que introduzca su edad. Si el usuario ingresa un valor no numérico o un valor fuera del rango esperado (por ejemplo, menor que 0 o mayor que 120), maneja las excepciones adecuadamente."
   ]
  },
  {
   "cell_type": "code",
   "execution_count": 13,
   "metadata": {},
   "outputs": [
    {
     "name": "stdout",
     "output_type": "stream",
     "text": [
      "su edad es 18\n"
     ]
    }
   ],
   "source": [
    "def edad_usuario():\n",
    "    try:\n",
    "        edad = int(input(\"ingrese su edad\"))\n",
    "        if  0 <= edad <= 120:       \n",
    "            print(f\"su edad es {edad}\")\n",
    "        else:\n",
    "            print(f\"ingresaste {edad}, ingrese una entre 0 y 120\")\n",
    "    except ValueError:\n",
    "        print(\"ingrese correctamente su edad\")\n",
    "\n",
    "edad_usuario()"
   ]
  },
  {
   "cell_type": "markdown",
   "metadata": {},
   "source": [
    "#### Ejercicio 8: Extracción de valores de una lista\n",
    "\n",
    "Escribe una función que intente acceder a un índice específico en una lista. Si el índice está fuera del rango, maneja la excepción `IndexError` y muestra un mensaje adecuado.\n"
   ]
  },
  {
   "cell_type": "code",
   "execution_count": 31,
   "metadata": {},
   "outputs": [
    {
     "name": "stdout",
     "output_type": "stream",
     "text": [
      "el indice esta fuera del rango de la lista.\n"
     ]
    }
   ],
   "source": [
    "lista = [1, 2, 3, 5, 6, 22]\n",
    "\n",
    "def acceso():\n",
    "    try:\n",
    "        indice = int(input(\"ingrese al indice que quiera ingresar\"))\n",
    "        print(f\"El valor en el indice {indice} es: {lista[indice]}\")\n",
    "\n",
    "    except ValueError:\n",
    "        print(\"ingrese un valor numerico para detectar el indice\")\n",
    "\n",
    "    except IndexError:\n",
    "        print(\"el indice esta fuera del rango de la lista.\")\n",
    "\n",
    "acceso()"
   ]
  }
 ],
 "metadata": {
  "kernelspec": {
   "display_name": "Python 3",
   "language": "python",
   "name": "python3"
  },
  "language_info": {
   "codemirror_mode": {
    "name": "ipython",
    "version": 3
   },
   "file_extension": ".py",
   "mimetype": "text/x-python",
   "name": "python",
   "nbconvert_exporter": "python",
   "pygments_lexer": "ipython3",
   "version": "3.12.4"
  }
 },
 "nbformat": 4,
 "nbformat_minor": 2
}
