{
 "cells": [
  {
   "cell_type": "markdown",
   "metadata": {},
   "source": [
    "\n",
    "<div style=\"text-align: center;\">\n",
    "  <img src=\"https://github.com/Hack-io-Data/Imagenes/blob/main/01-LogosHackio/logo_celeste@4x.png?raw=true\" alt=\"esquema\" />\n",
    "</div>\n"
   ]
  },
  {
   "cell_type": "markdown",
   "metadata": {},
   "source": [
    "# Laboratorio de Python: break(), pass(), continue()"
   ]
  },
  {
   "cell_type": "markdown",
   "metadata": {},
   "source": [
    "## Ejercicio 1: Validación de datos numéricos. \n",
    "\n",
    "Escribe un bucle que lea una lista de números y detenga la ejecución si encuentra un valor negativo. Muestra un mensaje indicando el número negativo encontrado.\n"
   ]
  },
  {
   "cell_type": "code",
   "execution_count": 31,
   "metadata": {},
   "outputs": [
    {
     "name": "stdout",
     "output_type": "stream",
     "text": [
      "Printeamos elemento positivo: 1\n",
      "Printeamos elemento positivo: 4\n",
      "Printeamos elemento positivo: 6\n",
      "Printeamos elemento positivo: 88\n",
      "Llegamos al valor negativo de -100, el programa se detendra\n"
     ]
    }
   ],
   "source": [
    "lista = [1, 4, 6, 88, -100, 2]\n",
    "\n",
    "for elemento in lista:\n",
    "    if elemento >= 0:\n",
    "        print(f\"Printeamos elemento positivo: {elemento}\")\n",
    "    else:\n",
    "        print(f\"Llegamos al valor negativo de {elemento}, el programa se detendra\")\n",
    "        break\n"
   ]
  },
  {
   "cell_type": "markdown",
   "metadata": {},
   "source": [
    "\n",
    "## Ejercicio 2: Filtrado de datos\n",
    "\n",
    "Escribe un bucle que imprima los números de una lista, pero que omita los números pares.\n"
   ]
  },
  {
   "cell_type": "code",
   "execution_count": 36,
   "metadata": {},
   "outputs": [
    {
     "name": "stdout",
     "output_type": "stream",
     "text": [
      "1 ----> este es un elemento impar de la lista\n",
      "5 ----> este es un elemento impar de la lista\n",
      "67 ----> este es un elemento impar de la lista\n",
      "55 ----> este es un elemento impar de la lista\n",
      "1001 ----> este es un elemento impar de la lista\n"
     ]
    }
   ],
   "source": [
    "lista2 = [1, 2, 4, 5, 67, 55, 44, 100, 1001]\n",
    "\n",
    "for elemento in lista2:\n",
    "    if elemento %2 == 0:\n",
    "        pass\n",
    "    else:\n",
    "        print(f\"{elemento} ----> este es un elemento impar de la lista\")"
   ]
  },
  {
   "cell_type": "markdown",
   "metadata": {},
   "source": [
    "## Ejercicio 3: Búsqueda de un valor\n",
    "\n",
    "Escribe un programa que busque un valor específico en una lista y detenga la búsqueda cuando lo encuentre. Si se encuentra, muestra un mensaje.\n"
   ]
  },
  {
   "cell_type": "code",
   "execution_count": 39,
   "metadata": {},
   "outputs": [
    {
     "name": "stdout",
     "output_type": "stream",
     "text": [
      "buscando valor...1\n",
      "buscando valor...3\n",
      "buscando valor...56\n",
      "buscando valor...55\n",
      "buscando valor...123\n",
      "buscando valor...22\n",
      "Lo he encontrado!! aqui lo tienes 6744\n"
     ]
    }
   ],
   "source": [
    "lista3 = [1, 3, 56, 55, 123, 22, 6744, 1331, 55]\n",
    "valor_especifico = 6744\n",
    "\n",
    "for elemento in lista3:\n",
    "    if elemento != valor_especifico:\n",
    "        print(f\"buscando valor...{elemento}\")\n",
    "    else:\n",
    "        print(f\"Lo he encontrado!! aqui lo tienes {elemento}\")\n",
    "        break"
   ]
  },
  {
   "cell_type": "markdown",
   "metadata": {},
   "source": [
    "## Ejercicio 4: Estructura de código incompleto\n",
    "\n",
    "Define una función que aún no tenga lógica implementada, pero que se pueda ejecutar sin errores utilizando `pass`."
   ]
  },
  {
   "cell_type": "code",
   "execution_count": null,
   "metadata": {},
   "outputs": [],
   "source": [
    "valor = int(input(\"ingrese un valor numerico\"))\n",
    "\n",
    "def funcion_pass():\n",
    "    pass\n",
    "\n",
    "def funcion ():\n",
    "    if valor > 2:\n",
    "        print (\"El valor es mayor a dos\")\n",
    "    else:\n",
    "        print (\"El valor es menor a 2\")"
   ]
  },
  {
   "cell_type": "markdown",
   "metadata": {},
   "source": [
    "## Ejercicio 5: Validación condicional\n",
    "\n",
    "Escribe un bucle que verifique una lista de nombres. Si encuentra un nombre vacío (cadena vacía), salta esa iteración y continúa con los demás nombres.\n"
   ]
  },
  {
   "cell_type": "code",
   "execution_count": 52,
   "metadata": {},
   "outputs": [
    {
     "name": "stdout",
     "output_type": "stream",
     "text": [
      "el nombre es jose\n",
      "el nombre es julian\n",
      "el nombre es dolores\n",
      "el nombre es natalia\n",
      "el nombre es raul\n",
      "el nombre es nuria\n"
     ]
    }
   ],
   "source": [
    "lista_nombre = [\"jose\", \"julian\", \"dolores\", \"natalia\", \"\", \"raul\", \"nuria\"]\n",
    "\n",
    "for nombre in lista_nombre:\n",
    "    if nombre == \"\":\n",
    "        pass\n",
    "    else:\n",
    "        print (f\"el nombre es {nombre}\")"
   ]
  },
  {
   "cell_type": "markdown",
   "metadata": {},
   "source": [
    "## Ejercicio 6: Búsqueda de claves en un diccionario\n",
    "\n",
    "Escribe un programa que recorra un diccionario y detenga la búsqueda si encuentra una clave específica pasada por el usuario.\n"
   ]
  },
  {
   "cell_type": "code",
   "execution_count": 78,
   "metadata": {},
   "outputs": [
    {
     "name": "stdout",
     "output_type": "stream",
     "text": [
      "Printeamos una clave valor NO elegida por usuario: agustin\n",
      "Printeamos una clave valor NO elegida por usuario: salomon\n",
      "Printeamos una clave valor NO elegida por usuario: 28\n",
      "Printeamos una clave valor NO elegida por usuario: valencia\n"
     ]
    }
   ],
   "source": [
    "diccionario = {\"nombre\":\"agustin\",\n",
    "               \"apellido\":\"salomon\",\n",
    "               \"edad\": 28,\n",
    "               \"ciudad\": \"valencia\"}\n",
    "\n",
    "clave_usuario = input(\"ingrese una clave entre: nombre, edad, apellido y ciudad\")\n",
    "for clave, valor in diccionario.items():\n",
    "    if clave != clave_usuario:\n",
    "        print (f\"Printeamos una clave valor NO elegida por usuario: {valor}\")\n",
    "    else:\n",
    "        print (f\"Elegiste la clave {clave}, el valor correspondiente es: {valor}\")\n",
    "        print (\"El programa finaliza aqui\")\n",
    "        break"
   ]
  },
  {
   "cell_type": "markdown",
   "metadata": {},
   "source": [
    "## Ejercicio 7: Bucle con múltiples excepciones\n",
    "\n",
    "Escribe un bucle que procese una lista de operaciones matemáticas, omitiendo las operaciones que intenten dividir por cero.\n"
   ]
  },
  {
   "cell_type": "code",
   "execution_count": 41,
   "metadata": {},
   "outputs": [
    {
     "name": "stdout",
     "output_type": "stream",
     "text": [
      "El resulado de la operacion con los numeros 5 y 2 es 7\n",
      "El resulado de la operacion con los numeros 8 y 5 es 40\n",
      "El resulado de la operacion con los numeros 10 y 2 es 5.0\n",
      "No se puede divir por 0\n",
      "El resulado de la operacion con los numeros 7 y 2 es 5\n",
      "El operador % no lo puse en la funcion, algo mas basico plis.\n"
     ]
    }
   ],
   "source": [
    "operaciones_matematicas = [(5, \"+\", 2),\n",
    "                           (8, \"*\", 5),\n",
    "                           (10, \"/\", 2),\n",
    "                           (2, \"/\", 0), #este va a fallar\n",
    "                           (7, \"-\", 2),\n",
    "                           (8, \"%\",2), #este va a tirar que no lo puse en funcion al operador\n",
    "                           ]\n",
    "\n",
    "for numero1, operador, numero2 in operaciones_matematicas:\n",
    "    if operador == \"/\" and numero2 == 0:\n",
    "        print (f\"No se puede divir por 0\")\n",
    "        continue\n",
    "\n",
    "    elif operador == \"-\":\n",
    "        resultado = numero1 - numero2\n",
    "\n",
    "    elif operador == \"+\":\n",
    "        resultado = numero1 + numero2\n",
    "\n",
    "    elif operador == \"*\":\n",
    "        resultado = numero1 * numero2\n",
    "\n",
    "    elif operador == \"/\":\n",
    "        resultado = numero1 / numero2\n",
    "\n",
    "    else:\n",
    "        print(f\"El operador {operador} no lo puse en la funcion, algo mas basico plis.\")\n",
    "        continue\n",
    "\n",
    "    print (f\"El resulado de la operacion con los numeros {numero1} y {numero2} es {resultado}\")\n"
   ]
  },
  {
   "cell_type": "markdown",
   "metadata": {},
   "source": [
    "## Ejercicio 8: Búsqueda en una lista anidada\n",
    "\n",
    "Escribe un programa que recorra una lista de listas y detenga la búsqueda cuando encuentre un valor mayor a 50.\n"
   ]
  },
  {
   "cell_type": "code",
   "execution_count": null,
   "metadata": {},
   "outputs": [
    {
     "name": "stdout",
     "output_type": "stream",
     "text": [
      "El valor de 2 es menor a 50\n",
      "El valor de 3 es menor a 50\n",
      "El valor 56 es mayor a 50. El programa se detiene\n"
     ]
    }
   ],
   "source": [
    "listas = [[2],[3],[56],[31],[22]]\n",
    "for lista in listas:\n",
    "    for valor in lista:\n",
    "        if valor > 5:\n",
    "            print(f\"El valor {valor} es mayor a 50. El programa se detiene\")\n",
    "            break\n",
    "        else:\n",
    "            print(f\"El valor de {valor} es menor a 50\")\n",
    "    else:\n",
    "        continue\n",
    "    break    "
   ]
  },
  {
   "cell_type": "markdown",
   "metadata": {},
   "source": [
    "## Ejercicio 9: Evaluación de series temporales\n",
    "\n",
    "Escribe un programa que recorra una lista de datos de series temporales y se detenga si encuentra un valor atípico (mayor a 100).\n"
   ]
  },
  {
   "cell_type": "code",
   "execution_count": 14,
   "metadata": {},
   "outputs": [
    {
     "name": "stdout",
     "output_type": "stream",
     "text": [
      "El valor es 2, la serie continua..\n",
      "El valor es 3, la serie continua..\n",
      "El valor es 5, la serie continua..\n",
      "El valor es 55, la serie continua..\n",
      "El valor es 21, la serie continua..\n",
      "El valor es 25, la serie continua..\n",
      "El valor es 57, la serie continua..\n",
      "El valor es 1, la serie continua..\n",
      "Se encontro un valor atipico de 101 el programa se detiene\n"
     ]
    }
   ],
   "source": [
    "serie = [2, 3, 5, 55, 21, 25, 57, 1, 101, 22, 33, 55]\n",
    "valor_atipico = 100\n",
    "\n",
    "for valor in serie:\n",
    "    if valor > valor_atipico:\n",
    "        print (f\"Se encontro un valor atipico de {valor} el programa se detiene\")\n",
    "        break\n",
    "    else:\n",
    "        print  (f\"El valor es {valor}, la serie continua..\")"
   ]
  },
  {
   "cell_type": "markdown",
   "metadata": {},
   "source": [
    "## Ejercicio 10: Iteración con valores faltantes\n",
    "\n",
    "Crea un bucle que recorra una lista de datos de ventas y salte los valores faltantes representados por `None`."
   ]
  },
  {
   "cell_type": "code",
   "execution_count": 18,
   "metadata": {},
   "outputs": [
    {
     "name": "stdout",
     "output_type": "stream",
     "text": [
      "La venta fue de 100 euros\n",
      "La venta fue de 22 euros\n",
      "La venta fue de 3312 euros\n",
      "La venta fue de 200 euros\n",
      "La venta fue de 1002 euros\n",
      "La venta fue de 331001 euros\n",
      "La venta fue de 22 euros\n"
     ]
    }
   ],
   "source": [
    "ventas = [100, 22, None, 3312, 200, None, 1002, 331001, 22]\n",
    "for venta in ventas:\n",
    "    if venta == None:\n",
    "        pass\n",
    "    else:\n",
    "        print(f\"La venta fue de {venta} euros\")"
   ]
  },
  {
   "cell_type": "markdown",
   "metadata": {},
   "source": [
    "## Ejercicio 11: Control de flujo en bucles anidados\n",
    "\n",
    "Escribe un bucle que recorra la matriz dada y se detenga si se encuentra un número negativo, mostrando su posición.\n",
    "\n"
   ]
  },
  {
   "cell_type": "code",
   "execution_count": 43,
   "metadata": {},
   "outputs": [
    {
     "name": "stdout",
     "output_type": "stream",
     "text": [
      "el numero 1 en la lista [1, 4, 5]\n",
      "el numero 4 en la lista [1, 4, 5]\n",
      "el numero 5 en la lista [1, 4, 5]\n",
      "el numero 5 en la lista [5, 8, 9]\n",
      "el numero 8 en la lista [5, 8, 9]\n",
      "el numero 9 en la lista [5, 8, 9]\n",
      "el numero 2 en la lista [2, -3, 5]\n",
      "-3 se encuentra en la posicion (2, 1) en la matriz\n"
     ]
    }
   ],
   "source": [
    "matriz = [[1, 4, 5],\n",
    "          [5, 8, 9],\n",
    "          [2, -3, 5]]\n",
    "encontrado = False\n",
    "\n",
    "for i, lista in enumerate(matriz):\n",
    "    for j, numero in enumerate(lista):\n",
    "        if numero < 0:\n",
    "            print(f\"{numero} se encuentra en la posicion ({i}, {j}) en la matriz\")\n",
    "            encontrado = True\n",
    "            break\n",
    "        else:\n",
    "            print(f\"el numero {numero} en la lista {lista}\")\n",
    "    if encontrado:\n",
    "        break"
   ]
  }
 ],
 "metadata": {
  "kernelspec": {
   "display_name": "Python 3",
   "language": "python",
   "name": "python3"
  },
  "language_info": {
   "codemirror_mode": {
    "name": "ipython",
    "version": 3
   },
   "file_extension": ".py",
   "mimetype": "text/x-python",
   "name": "python",
   "nbconvert_exporter": "python",
   "pygments_lexer": "ipython3",
   "version": "3.12.4"
  }
 },
 "nbformat": 4,
 "nbformat_minor": 2
}
