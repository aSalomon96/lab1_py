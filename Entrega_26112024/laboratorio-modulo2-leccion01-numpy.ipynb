{
 "cells": [
  {
   "cell_type": "markdown",
   "id": "6db588db",
   "metadata": {},
   "source": [
    "<div style=\"text-align: center;\">\n",
    "  <img src=\"https://github.com/Hack-io-Data/Imagenes/blob/main/01-LogosHackio/logo_naranja@4x.png?raw=true\" alt=\"esquema\" />\n",
    "</div>"
   ]
  },
  {
   "cell_type": "code",
   "execution_count": 66,
   "id": "11d3f85f",
   "metadata": {},
   "outputs": [],
   "source": [
    "import numpy as np"
   ]
  },
  {
   "cell_type": "markdown",
   "id": "11308d6c",
   "metadata": {},
   "source": [
    "for i in datos\n",
    "# Laboratorio de NumPy"
   ]
  },
  {
   "cell_type": "markdown",
   "id": "a19d4596",
   "metadata": {},
   "source": [
    "#### Ejercicio 1 - Crea un array de 1D con los números del 0 al 9."
   ]
  },
  {
   "cell_type": "code",
   "execution_count": 67,
   "id": "9d4e1d42",
   "metadata": {},
   "outputs": [
    {
     "data": {
      "text/plain": [
       "array([0, 1, 2, 3, 4, 5, 6, 7, 8, 9])"
      ]
     },
     "execution_count": 67,
     "metadata": {},
     "output_type": "execute_result"
    }
   ],
   "source": [
    "array_1D = np.arange(0,10,1)\n",
    "\n",
    "array_1D"
   ]
  },
  {
   "cell_type": "markdown",
   "id": "f4a41f16",
   "metadata": {},
   "source": [
    "#### Ejercicio 2 - Convierte un array 1D en un array 2D con 2 filas y 5 columnas."
   ]
  },
  {
   "cell_type": "code",
   "execution_count": 68,
   "id": "3d7cef3c",
   "metadata": {},
   "outputs": [
    {
     "name": "stdout",
     "output_type": "stream",
     "text": [
      "[[0 1 2 3 4]\n",
      " [5 6 7 8 9]]\n"
     ]
    }
   ],
   "source": [
    "array_2D = np.copy(array_1D)\n",
    "array_2D_reshape = array_2D.reshape(2,5)\n",
    "\n",
    "print(array_2D_reshape)\n"
   ]
  },
  {
   "cell_type": "markdown",
   "id": "86bb8999",
   "metadata": {},
   "source": [
    "#### Ejercicio 3 - Encuentra los índices de los elementos con valor distinto de 0 en el siguiente array: [0, 2, 0, 3, 0, 4, 0]."
   ]
  },
  {
   "cell_type": "code",
   "execution_count": 69,
   "id": "d1fcfca4",
   "metadata": {},
   "outputs": [
    {
     "name": "stdout",
     "output_type": "stream",
     "text": [
      "Los indices son [1, 3, 5]\n"
     ]
    }
   ],
   "source": [
    "array_dist_0 = np.array([0, 2, 0, 3, 0, 4, 0])\n",
    "indices = [i for i, elemento in enumerate(array_dist_0) if elemento>0]\n",
    "\n",
    "print (f\"Los indices son {indices}\")"
   ]
  },
  {
   "cell_type": "markdown",
   "id": "1c548419",
   "metadata": {},
   "source": [
    "#### Ejercicio 4 - Crea un array 3x3 con valores aleatorios entre 0 y 1."
   ]
  },
  {
   "cell_type": "code",
   "execution_count": 70,
   "id": "e1d4f19f",
   "metadata": {},
   "outputs": [
    {
     "data": {
      "text/plain": [
       "array([[0.70925192, 0.75839836, 0.78616475],\n",
       "       [0.04498344, 0.29520409, 0.09725334],\n",
       "       [0.65802888, 0.62371932, 0.42700656]])"
      ]
     },
     "execution_count": 70,
     "metadata": {},
     "output_type": "execute_result"
    }
   ],
   "source": [
    "array_aleatorio_3x3 = np.random.rand(3,3)\n",
    "\n",
    "array_aleatorio_3x3"
   ]
  },
  {
   "cell_type": "markdown",
   "id": "aee82811",
   "metadata": {},
   "source": [
    "#### Ejercicio 5 - Crea un array de 10 números aleatorios y encuentra el valor máximo y mínimo."
   ]
  },
  {
   "cell_type": "code",
   "execution_count": 71,
   "id": "81fea76e",
   "metadata": {},
   "outputs": [
    {
     "name": "stdout",
     "output_type": "stream",
     "text": [
      "El array generado es \n",
      "[[[ 9  7  4  5  5]\n",
      "  [ 0  3 18 17 15]]]\n",
      "\n",
      "El valor maximo es 18\n",
      "El valor minimo es 0\n"
     ]
    }
   ],
   "source": [
    "array_aleatorio_10= np.random.randint(0, 25, (1,2, 5))\n",
    "max = np.max(array_aleatorio_10)\n",
    "\n",
    "min = np.min(array_aleatorio_10)\n",
    "\n",
    "print (f\"El array generado es \\n{array_aleatorio_10}\\n\")\n",
    "print (f\"El valor maximo es {max}\")\n",
    "print (f\"El valor minimo es {min}\")"
   ]
  },
  {
   "cell_type": "markdown",
   "id": "6559375b",
   "metadata": {},
   "source": [
    "#### Ejercicio 6 - Crea un array de una dimensión e inviértelo. "
   ]
  },
  {
   "cell_type": "code",
   "execution_count": 72,
   "id": "31385db0",
   "metadata": {},
   "outputs": [
    {
     "data": {
      "text/plain": [
       "array([6, 5, 4, 3, 2, 1])"
      ]
     },
     "execution_count": 72,
     "metadata": {},
     "output_type": "execute_result"
    }
   ],
   "source": [
    "a_prev_inv= np.array([1, 2, 3, 4, 5, 6])\n",
    "\n",
    "a_inv = a_prev_inv[::-1]\n",
    "\n",
    "a_inv"
   ]
  },
  {
   "cell_type": "markdown",
   "id": "4457f046",
   "metadata": {},
   "source": [
    "\n",
    "#### Ejercicio 6 - Genera un array tridimensional de dimensiones (2, 3, 4) con valores enteros del 1 al 24.\n",
    "\n",
    "- Selecciona el primer `15` del array.\n",
    "\n",
    "- Selecciona todos los elementos del primer array. \n",
    "\n",
    "- Selecciona la última fila del último array\n"
   ]
  },
  {
   "cell_type": "code",
   "execution_count": 73,
   "id": "3cab04c9",
   "metadata": {},
   "outputs": [
    {
     "name": "stdout",
     "output_type": "stream",
     "text": [
      "- el array aleatorio es \n",
      "[[[ 4  1 24 14]\n",
      "  [ 0  2  5 21]\n",
      "  [14 15 15 15]]\n",
      "\n",
      " [[19 14 11 24]\n",
      "  [ 1 16  3 16]\n",
      "  [22  5  4 22]]]\n",
      "\n",
      "- el primer valor 15 se encuentra en (array([0, 0, 0]), array([2, 2, 2]), array([1, 2, 3]))\n",
      "\n",
      "- los elementos del primer array son \n",
      "[[ 4  1 24 14]\n",
      " [ 0  2  5 21]\n",
      " [14 15 15 15]]\n",
      "\n",
      "- la ultima fila del ultimo array es \n",
      "[22  5  4 22]\n"
     ]
    }
   ],
   "source": [
    "a_trid = np.random.randint(0, 25, (2,3, 4))\n",
    "var15 = np.where(a_trid == 15)\n",
    "\n",
    "elem_1er_array = a_trid[0,:, :]\n",
    "ultima_fila = a_trid[1,2,:]\n",
    "\n",
    "print (f\"- el array aleatorio es \\n{a_trid}\")\n",
    "print (f\"\\n- el primer valor 15 se encuentra en {var15}\")\n",
    "print (f\"\\n- los elementos del primer array son \\n{elem_1er_array}\")\n",
    "print (f\"\\n- la ultima fila del ultimo array es \\n{ultima_fila}\")"
   ]
  },
  {
   "cell_type": "markdown",
   "id": "681b7e4e",
   "metadata": {},
   "source": [
    "\n",
    "#### Ejercicio 7 - Genera un array tridimensional de dimensiones (3, 2, 5) con valores enteros del 1 al 30.\n",
    "\n",
    "- Selecciona el subarray que contiene los dos primeros elementos de cada fila del primer array.\n",
    "\n",
    "- Selecciona el subarray que contiene todas las filas de los dos últimos arrays.\n"
   ]
  },
  {
   "cell_type": "code",
   "execution_count": 74,
   "id": "b008a9aa",
   "metadata": {},
   "outputs": [
    {
     "name": "stdout",
     "output_type": "stream",
     "text": [
      "Array 3 x 2 x 5 = \n",
      " [[[ 7 21 11 30 23]\n",
      "  [ 4 24 19  9 24]]\n",
      "\n",
      " [[11 11 19 25 17]\n",
      "  [ 2 14 26 14 24]]\n",
      "\n",
      " [[20  5 27 25 19]\n",
      "  [21 23 21 19 29]]]\n",
      "\n",
      "los dos primeros elementos de cada fila del primer array = \n",
      " [[ 7 21]\n",
      " [ 4 24]]\n",
      "\n",
      "subarray que contiene todas las filas de los dos últimos arrays = \n",
      " [[[11 11 19 25 17]\n",
      "  [ 2 14 26 14 24]]\n",
      "\n",
      " [[20  5 27 25 19]\n",
      "  [21 23 21 19 29]]]\n"
     ]
    }
   ],
   "source": [
    "b_trid = np.random.randint(1, 31, (3,2, 5))\n",
    "sub_array= b_trid[0,:,:2]\n",
    "sub_total = b_trid [1:,:,:]\n",
    "\n",
    "print(f\"Array 3 x 2 x 5 = \\n {b_trid}\")\n",
    "print(f\"\\nlos dos primeros elementos de cada fila del primer array = \\n {sub_array}\")\n",
    "print(f\"\\nsubarray que contiene todas las filas de los dos últimos arrays = \\n {sub_total}\")"
   ]
  },
  {
   "cell_type": "markdown",
   "id": "4fabd9d0",
   "metadata": {},
   "source": [
    "#### Ejercicio 8 - Genera un array tridimensional de dimensiones (4, 3, 2) con valores enteros del 1 al 24.\n",
    "\n",
    "- Cambia todos los elementos de la segunda fila del segundo array por `0`.\n",
    "\n",
    "- Cambia todos los valores del último array a `-1`.\n"
   ]
  },
  {
   "cell_type": "code",
   "execution_count": 75,
   "id": "0ef45b69",
   "metadata": {},
   "outputs": [
    {
     "name": "stdout",
     "output_type": "stream",
     "text": [
      "Array 4 x3 x2 = \n",
      " \n",
      "[[[ 1 16]\n",
      "  [17  8]\n",
      "  [15  8]]\n",
      "\n",
      " [[ 5 23]\n",
      "  [ 9 12]\n",
      "  [11 16]]\n",
      "\n",
      " [[21 18]\n",
      "  [ 7 20]\n",
      "  [11  8]]\n",
      "\n",
      " [[14  1]\n",
      "  [23 18]\n",
      "  [ 9 23]]]\n"
     ]
    }
   ],
   "source": [
    "c_trid = np.random.randint(1, 25, (4,3,2))\n",
    "\n",
    "print(f\"Array 4 x3 x2 = \\n \\n{c_trid}\")\n"
   ]
  },
  {
   "cell_type": "code",
   "execution_count": 76,
   "id": "ccab515c",
   "metadata": {},
   "outputs": [
    {
     "name": "stdout",
     "output_type": "stream",
     "text": [
      "Array tridimensional después de la modificación:\n",
      "[[[ 1 16]\n",
      "  [17  8]\n",
      "  [15  8]]\n",
      "\n",
      " [[ 5 23]\n",
      "  [ 0  0]\n",
      "  [11 16]]\n",
      "\n",
      " [[21 18]\n",
      "  [ 7 20]\n",
      "  [11  8]]\n",
      "\n",
      " [[14  1]\n",
      "  [23 18]\n",
      "  [ 9 23]]]\n"
     ]
    }
   ],
   "source": [
    "## Cambia todos los elementos de la segunda fila del segundo array por `0`.\n",
    "\n",
    "c_trid[1, 1, :] = 0\n",
    "\n",
    "# Imprimir el resultado\n",
    "print(\"Array tridimensional después de la modificación:\")\n",
    "print(c_trid)"
   ]
  },
  {
   "cell_type": "code",
   "execution_count": 77,
   "id": "24a3b146",
   "metadata": {},
   "outputs": [
    {
     "name": "stdout",
     "output_type": "stream",
     "text": [
      "Array tridimensional después de la modificación:\n",
      "[[[ 1 16]\n",
      "  [17  8]\n",
      "  [15  8]]\n",
      "\n",
      " [[ 5 23]\n",
      "  [ 0  0]\n",
      "  [11 16]]\n",
      "\n",
      " [[21 18]\n",
      "  [ 7 20]\n",
      "  [11  8]]\n",
      "\n",
      " [[-1 -1]\n",
      "  [-1 -1]\n",
      "  [-1 -1]]]\n"
     ]
    }
   ],
   "source": [
    "##- Cambia todos los valores del último array a `-1`.\n",
    "\n",
    "c_trid[3,:,:] = -1\n",
    "\n",
    "# Imprimir el resultado\n",
    "print(\"Array tridimensional después de la modificación:\")\n",
    "print(c_trid)"
   ]
  },
  {
   "cell_type": "markdown",
   "id": "c60bc3bb",
   "metadata": {},
   "source": [
    "\n",
    "#### Ejercicio 9 - Genera un array tridimensional de dimensiones (2, 4, 3) con valores enteros del -10 al 13.\n",
    "\n",
    "- Selecciona todos los elementos mayores a `5`.\n",
    "\n",
    "- Reemplaza todos los elementos negativos por `0`.\n"
   ]
  },
  {
   "cell_type": "code",
   "execution_count": 78,
   "id": "28bf9232",
   "metadata": {},
   "outputs": [
    {
     "name": "stdout",
     "output_type": "stream",
     "text": [
      "FILTRACION DE MAYORES DE 5\n",
      "Array 2x 4x 3 que vamos a trabjar = \n",
      " \n",
      "[[[ 11   5  12]\n",
      "  [ -8  -7   8]\n",
      "  [ -4   2   2]\n",
      "  [ 13 -10 -10]]\n",
      "\n",
      " [[ -2  -5  -9]\n",
      "  [ -8   9  12]\n",
      "  [  7   5  -2]\n",
      "  [  6   1   6]]]\n",
      "\n",
      "creamos mascara booleana de mayores de 5 \n",
      "[[[ True False  True]\n",
      "  [False False  True]\n",
      "  [False False False]\n",
      "  [ True False False]]\n",
      "\n",
      " [[False False False]\n",
      "  [False  True  True]\n",
      "  [ True False False]\n",
      "  [ True False  True]]]\n",
      "\n",
      "aplicamos mascara a d_trid  \n",
      "[11 12  8 13  9 12  7  6  6]\n"
     ]
    }
   ],
   "source": [
    "d_trid = np.random.randint(-10, 14, (2, 4, 3))\n",
    "print(\"FILTRACION DE MAYORES DE 5\")\n",
    "mascara = d_trid > 5\n",
    "filtrado5=  d_trid[mascara]\n",
    "print(f\"Array 2x 4x 3 que vamos a trabjar = \\n \\n{d_trid}\")\n",
    "print(f\"\\ncreamos mascara booleana de mayores de 5 \\n{mascara}\")\n",
    "print(f\"\\naplicamos mascara a d_trid  \\n{filtrado5}\")\n",
    "\n"
   ]
  },
  {
   "cell_type": "code",
   "execution_count": 79,
   "id": "f5f6a606",
   "metadata": {},
   "outputs": [
    {
     "name": "stdout",
     "output_type": "stream",
     "text": [
      "\n",
      " \n",
      "Reemplaza todos los elementos negativos por `0`\n",
      "la matriz que utilizaremos es \n",
      "[[[-10   0  13]\n",
      "  [ -3   9  -1]\n",
      "  [  0   4   8]\n",
      "  [ -2   4  -1]]\n",
      "\n",
      " [[  3   8   8]\n",
      "  [ -1  10   6]\n",
      "  [  4  -3   9]\n",
      "  [ -6   6  -8]]]\n",
      "\n",
      "\n",
      "igualando a 0 los valores negativos \n",
      "[[[ 0  0 13]\n",
      "  [ 0  9  0]\n",
      "  [ 0  4  8]\n",
      "  [ 0  4  0]]\n",
      "\n",
      " [[ 3  8  8]\n",
      "  [ 0 10  6]\n",
      "  [ 4  0  9]\n",
      "  [ 0  6  0]]]\n",
      "\n"
     ]
    }
   ],
   "source": [
    "print(\"\\n \\nReemplaza todos los elementos negativos por `0`\")\n",
    "\n",
    "e_trid = np.random.randint(-10, 14, (2, 4, 3))\n",
    "print(f\"la matriz que utilizaremos es \\n{e_trid}\\n\")\n",
    "\n",
    "e_trid_filtrado=np.where(e_trid[:,:,:] < 0, 0, e_trid)\n",
    "print(f\"\\nigualando a 0 los valores negativos \\n{e_trid_filtrado}\\n\")"
   ]
  },
  {
   "cell_type": "markdown",
   "id": "ab38a3be",
   "metadata": {},
   "source": [
    "#### Ejercicio 10 - Genera un array tridimensional de dimensiones (3, 3, 3) con valores enteros del 1 al 27.\n",
    "\n",
    "- Selecciona el subarray del segundo array que contenga solo las dos primeras columnas.\n",
    "\n",
    "- Selecciona todos los elementos del tercer array que sean mayores que `20`.\n"
   ]
  },
  {
   "cell_type": "code",
   "execution_count": 80,
   "id": "78c979cf",
   "metadata": {},
   "outputs": [
    {
     "name": "stdout",
     "output_type": "stream",
     "text": [
      "array a utilizar\n",
      " [[[12  4 19]\n",
      "  [15 27  3]\n",
      "  [20 19 24]]\n",
      "\n",
      " [[16  8 17]\n",
      "  [10 17 12]\n",
      "  [13  4 12]]\n",
      "\n",
      " [[ 7 21 12]\n",
      "  [ 8 21  3]\n",
      "  [24  5 16]]]\n",
      "\n",
      "subarray del segundo array que contenga solo las dos primeras columnas \n",
      "[[16  8]\n",
      " [10 17]\n",
      " [13  4]]\n",
      "\n",
      "elementos del tercer array que sean mayores que `20` (array([0, 1, 2]), array([1, 1, 0]))\n"
     ]
    }
   ],
   "source": [
    "f_trid = np.random.randint(1, 28, (3, 3, 3))\n",
    "print(f\"array a utilizar\\n {f_trid}\\n\")\n",
    "\n",
    "sub_2_2c = f_trid[1,:,:2]\n",
    "print(f\"subarray del segundo array que contenga solo las dos primeras columnas \\n{sub_2_2c}\")\n",
    "\n",
    "\n",
    "resultado = np.where(f_trid[2,:,:]>20)\n",
    "print(f\"\\nelementos del tercer array que sean mayores que `20` {resultado}\")"
   ]
  },
  {
   "cell_type": "markdown",
   "id": "f1a00156",
   "metadata": {},
   "source": [
    "#### Ejercicio 11 - Crea un array de 10 números aleatorios y reemplaza los valores máximos y mínimos por 0."
   ]
  },
  {
   "cell_type": "code",
   "execution_count": 81,
   "id": "990fa526",
   "metadata": {},
   "outputs": [
    {
     "name": "stdout",
     "output_type": "stream",
     "text": [
      "Array a utilizar \n",
      "[[ 41  74  56  10 100]\n",
      " [ 69  55  80  79  79]]\n",
      "\n",
      "\n",
      "Array modificado \n",
      "[[41 74 56  0  0]\n",
      " [69 55 80 79 79]]\n",
      "\n",
      "maximo remplazado por 0: 100\n",
      "minimo remplazado por 0: 10\n"
     ]
    }
   ],
   "source": [
    "a_random = np.random.randint(1, 101, (2,5))\n",
    "a_max = np.max(a_random)\n",
    "a_min = np.min(a_random)\n",
    "print (f\"Array a utilizar \\n{a_random}\\n\")\n",
    "\n",
    "a_random[a_random == a_max] = 0\n",
    "a_random[a_random == a_min] = 0\n",
    "print (f\"\\nArray modificado \\n{a_random}\")\n",
    "print (f\"\\nmaximo remplazado por 0: {a_max}\")\n",
    "print (f\"minimo remplazado por 0: {a_min}\")"
   ]
  },
  {
   "cell_type": "markdown",
   "id": "781fafd0",
   "metadata": {},
   "source": [
    "#### Ejercicio 12 - Genera un array de 15 números aleatorios enteros entre 1 y 100 y reordénalo en orden ascendente."
   ]
  },
  {
   "cell_type": "code",
   "execution_count": 82,
   "id": "caa4fd47",
   "metadata": {},
   "outputs": [
    {
     "name": "stdout",
     "output_type": "stream",
     "text": [
      "Array a utilizar \n",
      "[[[ 1 11 82 54 36]\n",
      "  [38 96 19 28 10]\n",
      "  [87 21 66 48  8]]\n",
      "\n",
      " [[40 36 92 87 49]\n",
      "  [53 56 83 90 10]\n",
      "  [98 27  4 86 70]]]\n",
      "\n",
      "El array ordenado ascendendete quedo : \n",
      "[[[ 1 11 36 54 82]\n",
      "  [10 19 28 38 96]\n",
      "  [ 8 21 48 66 87]]\n",
      "\n",
      " [[36 40 49 87 92]\n",
      "  [10 53 56 83 90]\n",
      "  [ 4 27 70 86 98]]]\n"
     ]
    }
   ],
   "source": [
    "a_15 = np.random.randint(1, 100, (2,3,5))\n",
    "print (f\"Array a utilizar \\n{a_15}\")\n",
    "\n",
    "a_15_ordenado = np.sort(a_15)\n",
    "print(f\"\\nEl array ordenado ascendendete quedo : \\n{a_15_ordenado}\")"
   ]
  },
  {
   "cell_type": "markdown",
   "id": "45f10c3e",
   "metadata": {},
   "source": [
    "#### Ejercicio 11 - Calcula la suma de los elementos a lo largo de las filas y columnas en una matriz 4x4."
   ]
  },
  {
   "cell_type": "code",
   "execution_count": 83,
   "id": "90220788",
   "metadata": {},
   "outputs": [
    {
     "name": "stdout",
     "output_type": "stream",
     "text": [
      "Array a utilizar \n",
      "[[31 65 15 19]\n",
      " [21  8 49 21]\n",
      " [66 40 65 60]\n",
      " [43 92 66 94]]\n",
      "\n",
      "la suma de columnas da:  \n",
      "[161 205 195 194]\n",
      "\n",
      "la suma de filas da:  \n",
      "[130  99 231 295]\n"
     ]
    }
   ],
   "source": [
    "a_4x4 = np.random.randint(1, 100, (4,4))\n",
    "print (f\"Array a utilizar \\n{a_4x4 }\")\n",
    "\n",
    "suma_columnas = np.sum(a_4x4, axis = 0)\n",
    "print (f\"\\nla suma de columnas da:  \\n{suma_columnas }\")\n",
    "\n",
    "suma_filas = np.sum(a_4x4,axis=1)\n",
    "print (f\"\\nla suma de filas da:  \\n{suma_filas }\")"
   ]
  },
  {
   "cell_type": "markdown",
   "id": "69b9751a",
   "metadata": {},
   "source": [
    "#### Ejercicio 12 - Crea una matriz de 5x5 con valores en el borde igual a 1 y en el interior igual a 0."
   ]
  },
  {
   "cell_type": "code",
   "execution_count": 84,
   "id": "eca81323",
   "metadata": {},
   "outputs": [
    {
     "name": "stdout",
     "output_type": "stream",
     "text": [
      "Matriz 5x5 con bordes de 1 y interior de 0: \n",
      " [[1. 1. 1. 1. 1.]\n",
      " [1. 0. 0. 0. 1.]\n",
      " [1. 0. 0. 0. 1.]\n",
      " [1. 0. 0. 0. 1.]\n",
      " [1. 1. 1. 1. 1.]]\n"
     ]
    }
   ],
   "source": [
    "a_bordes = np.zeros((5, 5))\n",
    "\n",
    "a_bordes[0, :] = 1       \n",
    "a_bordes[-1, :] = 1      \n",
    "a_bordes[:, 0] = 1       \n",
    "a_bordes[:, -1] = 1      \n",
    "\n",
    "\n",
    "print(f\"Matriz 5x5 con bordes de 1 y interior de 0: \\n {a_bordes}\")"
   ]
  },
  {
   "cell_type": "markdown",
   "id": "1ea8068d",
   "metadata": {},
   "source": [
    "#### Ejercicio 13 - Calcula la media y la desviación estándar de un array de 10 números aleatorios."
   ]
  },
  {
   "cell_type": "code",
   "execution_count": 85,
   "id": "05dd579d",
   "metadata": {},
   "outputs": [
    {
     "name": "stdout",
     "output_type": "stream",
     "text": [
      "array a utilizar : \n",
      "[[45  4 96 93 30]\n",
      " [15 57 26  9 56]]\n",
      "\n",
      "La media del array es: 43.1\n",
      "El desvio estandar es: 30.98\n"
     ]
    }
   ],
   "source": [
    "a_med_std = np.random.randint(1, 100, (2,5))\n",
    "print(f\"array a utilizar : \\n{a_med_std}\\n\")\n",
    "\n",
    "media = np.mean(a_med_std)\n",
    "desv_std=np.std(a_med_std)\n",
    "\n",
    "print(f\"La media del array es: {media}\")\n",
    "\n",
    "print(f\"El desvio estandar es: {desv_std.round(2)}\")"
   ]
  },
  {
   "cell_type": "markdown",
   "id": "6add6669",
   "metadata": {},
   "source": [
    "#### Ejercicio 14 - Genera un array tridimensional de dimensiones (2, 3, 4) con valores enteros del 1 al 24.\n",
    "\n",
    "- Transpón el array para intercambiar los ejes de la forma (2, 3, 4) a (4, 3, 2).\n",
    "\n",
    "- Observa cómo cambian las posiciones de los elementos y sus índices después de la transposición. Explica en una celda de markdown que es lo que ha pasado. \n"
   ]
  },
  {
   "cell_type": "code",
   "execution_count": 86,
   "id": "ae98aca5",
   "metadata": {},
   "outputs": [
    {
     "name": "stdout",
     "output_type": "stream",
     "text": [
      "El array a utilizar es:\n",
      " [[[ 2 15 22 23]\n",
      "  [24 15 13 22]\n",
      "  [ 3  3 15 16]]\n",
      "\n",
      " [[ 7  3 24 11]\n",
      "  [14 20 10  7]\n",
      "  [ 3 13  2  2]]]\n",
      "\n",
      "\n",
      "El array transpuesto es:\n",
      " [[[ 2  7]\n",
      "  [24 14]\n",
      "  [ 3  3]]\n",
      "\n",
      " [[15  3]\n",
      "  [15 20]\n",
      "  [ 3 13]]\n",
      "\n",
      " [[22 24]\n",
      "  [13 10]\n",
      "  [15  2]]\n",
      "\n",
      " [[23 11]\n",
      "  [22  7]\n",
      "  [16  2]]]\n"
     ]
    }
   ],
   "source": [
    "a_3d = np.random.randint(1, 25, (2, 3, 4))\n",
    "print(f\"El array a utilizar es:\\n {a_3d}\")\n",
    "\n",
    "a_3d_transp = np.transpose(a_3d)\n",
    "print(f\"\\n\\nEl array transpuesto es:\\n {a_3d_transp}\")"
   ]
  },
  {
   "cell_type": "markdown",
   "id": "1e32b5e6",
   "metadata": {},
   "source": [
    "#### Ejercicio 15 - Genera un array tridimensional de dimensiones (3, 4, 2) con valores enteros del 1 al 24.\n",
    "\n",
    "- Transpón el array para intercambiar el primer y segundo eje, de manera que la nueva forma del array sea (4, 3, 2).\n"
   ]
  },
  {
   "cell_type": "code",
   "execution_count": 87,
   "id": "0146fdd6",
   "metadata": {},
   "outputs": [
    {
     "name": "stdout",
     "output_type": "stream",
     "text": [
      "El array a utilizar es:\n",
      " [[[10 17]\n",
      "  [14 24]\n",
      "  [14 16]\n",
      "  [ 9 22]]\n",
      "\n",
      " [[ 9 14]\n",
      "  [ 7 20]\n",
      "  [ 6 23]\n",
      "  [ 5 15]]\n",
      "\n",
      " [[ 7  2]\n",
      "  [21 17]\n",
      "  [ 9  2]\n",
      "  [19 10]]]\n",
      "\n",
      "\n",
      "El array transpuesto con formota 4 3 2:\n",
      " [[[ 2  7]\n",
      "  [24 14]\n",
      "  [ 3  3]]\n",
      "\n",
      " [[15  3]\n",
      "  [15 20]\n",
      "  [ 3 13]]\n",
      "\n",
      " [[22 24]\n",
      "  [13 10]\n",
      "  [15  2]]\n",
      "\n",
      " [[23 11]\n",
      "  [22  7]\n",
      "  [16  2]]]\n"
     ]
    }
   ],
   "source": [
    "a_3d_v2 = np.random.randint(1, 25, (3, 4, 2))\n",
    "print(f\"El array a utilizar es:\\n {a_3d_v2}\")\n",
    "\n",
    "a_3d_v2_transp = np.transpose(a_3d_v2, (1,0,2))\n",
    "print(f\"\\n\\nEl array transpuesto con formota 4 3 2:\\n {a_3d_transp}\")"
   ]
  },
  {
   "cell_type": "markdown",
   "id": "fcf92586",
   "metadata": {},
   "source": [
    "#### Ejercicio 16 - Genera un array tridimensional de dimensiones (3, 2, 4) con valores enteros del 1 al 24.\n",
    "\n",
    "- Realiza una rotación completa de los ejes para convertir la forma original (3, 2, 4) en (4, 3, 2).\n"
   ]
  },
  {
   "cell_type": "code",
   "execution_count": 88,
   "id": "dd2c7f27",
   "metadata": {},
   "outputs": [
    {
     "name": "stdout",
     "output_type": "stream",
     "text": [
      "El array a utilizar es:\n",
      " [[[13 12 24 14]\n",
      "  [18 11 21  5]]\n",
      "\n",
      " [[ 5 23  4 10]\n",
      "  [17  9  6 15]]\n",
      "\n",
      " [[16 13 11 22]\n",
      "  [10 22 20  9]]]\n",
      "\n",
      "\n",
      "El array transpuesto con formota 4 3 2:\n",
      " [[[ 2  7]\n",
      "  [24 14]\n",
      "  [ 3  3]]\n",
      "\n",
      " [[15  3]\n",
      "  [15 20]\n",
      "  [ 3 13]]\n",
      "\n",
      " [[22 24]\n",
      "  [13 10]\n",
      "  [15  2]]\n",
      "\n",
      " [[23 11]\n",
      "  [22  7]\n",
      "  [16  2]]]\n"
     ]
    }
   ],
   "source": [
    "a_3d_v3 = np.random.randint(1, 25, (3, 2, 4))\n",
    "print(f\"El array a utilizar es:\\n {a_3d_v3}\")\n",
    "\n",
    "a_3d_v3_transp = np.transpose(a_3d_v3, (2,1,0))\n",
    "print(f\"\\n\\nEl array transpuesto con formota 4 3 2:\\n {a_3d_transp}\")"
   ]
  },
  {
   "cell_type": "markdown",
   "id": "1795e11f",
   "metadata": {},
   "source": [
    "#### Ejercicio 17 - Manipulación de Arrays en 3D\n",
    "\n",
    "- Crea un array tridimensional con dimensiones (3, 4, 5) cuyos elementos sean números enteros aleatorios entre -10 y 10.\n",
    "\n",
    "- Crea un array vacío con la misma forma y dimensiones que el array creado anteriormente. Luego, reemplaza los valores de la matriz vacía basada en los valores del primer array bajo las siguientes condiciones:\n",
    "\n",
    "   - Si el valor es igual a la mediana, se reemplaza por `\"M\"`.\n",
    "\n",
    "   - Si el valor es mayor que la mediana, se reemplaza por `\"X\"`.\n",
    "\n",
    "   - Si el valor es menor que la mediana, se reemplaza por `\"Y\"`.\n",
    "\n",
    "   - Si el valor es igual al máximo, se reemplaza por `\"MAX\"`.\n",
    "\n",
    "   - Si el valor es igual al mínimo, se reemplaza por `\"MIN\"`.\n"
   ]
  },
  {
   "cell_type": "code",
   "execution_count": 89,
   "id": "d309b397",
   "metadata": {},
   "outputs": [
    {
     "name": "stdout",
     "output_type": "stream",
     "text": [
      "El array a utilizar es:\n",
      " [[[ -6   1   2  -2   7]\n",
      "  [ -5  -9 -10   7  -4]\n",
      "  [  5   1  -3  -2  -2]\n",
      "  [  6  -7  -6  -3   0]]\n",
      "\n",
      " [[ -7   7  -3  -1   9]\n",
      "  [ -4   1   0  -5   6]\n",
      "  [-10   9  -8  -2   5]\n",
      "  [  1   0   1   5   3]]\n",
      "\n",
      " [[ -2  -6   8  -4  -2]\n",
      "  [  4  -9   4   0 -10]\n",
      "  [  7   5  -9   4   6]\n",
      "  [  8   0  -3  -7   8]]]\n",
      "la mediana es: 0.0\n",
      "El valor maximo es: 9\n",
      "El valor minimo es: 9\n",
      "\n",
      "\n",
      "El array modificado es:\n",
      "[[['Y' 'X' 'X' 'Y' 'X']\n",
      "  ['Y' 'Y' 'Y' 'X' 'Y']\n",
      "  ['X' 'X' 'Y' 'Y' 'Y']\n",
      "  ['X' 'Y' 'Y' 'Y' 'M']]\n",
      "\n",
      " [['Y' 'X' 'Y' 'Y' 'MIN']\n",
      "  ['Y' 'X' 'M' 'Y' 'X']\n",
      "  ['Y' 'MIN' 'Y' 'Y' 'X']\n",
      "  ['X' 'M' 'X' 'X' 'X']]\n",
      "\n",
      " [['Y' 'Y' 'X' 'Y' 'Y']\n",
      "  ['X' 'Y' 'X' 'M' 'Y']\n",
      "  ['X' 'X' 'Y' 'X' 'X']\n",
      "  ['X' 'M' 'Y' 'Y' 'X']]]\n"
     ]
    }
   ],
   "source": [
    "a_ej17 = np.random.randint(-10, 11, (3, 4, 5))\n",
    "print(f\"El array a utilizar es:\\n {a_ej17}\")\n",
    "\n",
    "mediana = np.median(a_ej17)\n",
    "max_a_ej17 = np.max(a_ej17)\n",
    "min_a_ej17 = np.max(a_ej17)\n",
    "print(f\"la mediana es: {mediana}\")\n",
    "print(f\"El valor maximo es: {max_a_ej17}\")\n",
    "print(f\"El valor minimo es: {min_a_ej17}\\n\")\n",
    "\n",
    "final = np.empty(a_ej17.shape, dtype=object)\n",
    "\n",
    "final[a_ej17 == mediana] = \"M\"\n",
    "final[a_ej17 > mediana] = \"X\"\n",
    "final[a_ej17 < mediana] = \"Y\"\n",
    "final[a_ej17 == max_a_ej17] = \"MAX\"\n",
    "final[a_ej17 == min_a_ej17] = \"MIN\"\n",
    "\n",
    "\n",
    "print(f\"\\nEl array modificado es:\\n{final}\")\n"
   ]
  },
  {
   "cell_type": "markdown",
   "id": "83794704",
   "metadata": {},
   "source": [
    "#### Ejercicio 18 - Verificación de Filas y Columnas Iguales\n",
    "\n",
    "Crea un array bidimensional de dimensiones 4x4, escribe un código para determinar si alguna fila es exactamente igual a alguna columna.\n",
    "\n",
    "**Reglas:**\n",
    "\n",
    "- No puedes usar funciones predefinidas de NumPy para comparar filas y columnas (`np.array_equal`, etc.).\n",
    "\n",
    "- Debes resolverlo con estructuras básicas de Python (bucles, condicionales, etc.).\n",
    "\n",
    "- Debes revisar si hay al menos una fila que coincida exactamente con alguna columna.\n",
    "\n",
    "**Pistas**:\n",
    "\n",
    "- Puedes recorrer cada fila y cada columna de la matriz usando bucles.\n",
    "\n",
    "- Para comparar una fila con una columna, puedes hacerlo elemento por elemento."
   ]
  },
  {
   "cell_type": "code",
   "execution_count": 90,
   "id": "afd51c60",
   "metadata": {},
   "outputs": [
    {
     "name": "stdout",
     "output_type": "stream",
     "text": [
      "El array a utilizar es:\n",
      " [[0 1 0 0]\n",
      " [1 1 1 0]\n",
      " [1 0 1 0]\n",
      " [0 0 1 0]]\n",
      "no hay filas iguales\n"
     ]
    }
   ],
   "source": [
    "ej18 = np.random.randint(0, 2, (4, 4))\n",
    "print(f\"El array a utilizar es:\\n {ej18}\")\n",
    "\n",
    "fila_igual_columna = False\n",
    "\n",
    "for i in range (ej18.shape[0]):\n",
    "    for j in range (ej18.shape[1]):\n",
    "        iguales = True\n",
    "        for k in range(ej18.shape[0]):\n",
    "            if ej18 [i,k] != ej18[k,j]:\n",
    "                iguales = False\n",
    "                break\n",
    "        if iguales:\n",
    "            fila_igual_columna=True\n",
    "            print(f\"La fila {i} es igual a la colum {j}\")\n",
    "            break\n",
    "    if fila_igual_columna:\n",
    "        break\n",
    "if not fila_igual_columna:\n",
    "    print(\"no hay filas iguales\")"
   ]
  }
 ],
 "metadata": {
  "kernelspec": {
   "display_name": "Python 3",
   "language": "python",
   "name": "python3"
  },
  "language_info": {
   "codemirror_mode": {
    "name": "ipython",
    "version": 3
   },
   "file_extension": ".py",
   "mimetype": "text/x-python",
   "name": "python",
   "nbconvert_exporter": "python",
   "pygments_lexer": "ipython3",
   "version": "3.12.4"
  }
 },
 "nbformat": 4,
 "nbformat_minor": 5
}
